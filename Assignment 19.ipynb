{
 "cells": [
  {
   "cell_type": "code",
   "execution_count": null,
   "id": "a1711429",
   "metadata": {},
   "outputs": [],
   "source": [
    "1. Make a class called Thing with no contents and print it. \n",
    "Then, create an object called example from this class and also print it. \n",
    "Are the printed values the same or different?\n",
    "\n",
    "class Thing:\n",
    "    pass\n",
    "\n",
    "print(Thing)\n",
    "\n",
    "example = Thing()\n",
    "print(example)"
   ]
  },
  {
   "cell_type": "code",
   "execution_count": null,
   "id": "4fb97ef0",
   "metadata": {},
   "outputs": [],
   "source": [
    "2. Create a new class called Thing2 and add the value 'abc' to the letters \n",
    "class attribute. Letters should be printed.\n",
    "\n",
    "class Thing2:\n",
    "    letters = 'abc'\n",
    "    \n",
    "print(Thing2.letters)"
   ]
  },
  {
   "cell_type": "code",
   "execution_count": null,
   "id": "86fb1255",
   "metadata": {},
   "outputs": [],
   "source": [
    "3. Make yet another class called, of course, Thing3. This time, assign the \n",
    "value 'xyz' to an instance (object) attribute called letters. Print letters. \n",
    "Do you need to make an object from the class to do this?\n",
    "\n",
    "class Thing3:    \n",
    "    def __init__(self):\n",
    "        self.letters = 'xyz'\n",
    "        \n",
    "try:        \n",
    "    print(Thing3.letters) \n",
    "except:\n",
    "    my_thing = Thing3()\n",
    "    print(my_thing.letters)"
   ]
  },
  {
   "cell_type": "code",
   "execution_count": null,
   "id": "350e6486",
   "metadata": {},
   "outputs": [],
   "source": [
    "4. Create an Element class with the instance attributes name, symbol, and \n",
    "number. Create a class object with the values 'Hydrogen,' 'H,' and 1.\n",
    "\n",
    "class Element:   \n",
    "    def __init__(self, name, symbol, number):\n",
    "        self.name = name\n",
    "        self.symbol = symbol\n",
    "        self.number = number\n",
    "\n",
    "my_elements = Element('Hydrogen','H',1)"
   ]
  },
  {
   "cell_type": "code",
   "execution_count": null,
   "id": "4731ed78",
   "metadata": {},
   "outputs": [],
   "source": [
    "5. Make a dictionary with these keys and values: 'name': 'Hydrogen', \n",
    "'symbol': 'H', 'number': 1. Then, create an object called hydrogen \n",
    "from class Element using this dictionary.\n",
    "\n",
    "custom_dict = {'name':'Hydrogen','symbol':'H','number':1}\n",
    "print(custom_dict)\n",
    "\n",
    "hydrogen = Element(**custom_dict)\n",
    "print('Using Method #2 ->',hydrogen.name,hydrogen.symbol,hydrogen.number, sep='\\t')"
   ]
  },
  {
   "cell_type": "code",
   "execution_count": null,
   "id": "09ced791",
   "metadata": {},
   "outputs": [],
   "source": [
    "6. For the Element class, define a method called dump() that prints the \n",
    "values of the object’s attributes (name, symbol, and number). Create the \n",
    "hydrogen object from this new definition and use dump() to print its \n",
    "attributes.\n",
    "\n",
    "class Element:\n",
    "    def __init__(self, name, symbol, number):\n",
    "        self.name = name\n",
    "        self.symbol = symbol\n",
    "        self.number = number      \n",
    "    def dump(self):\n",
    "        print(self.name, self.symbol, self.number)\n",
    "        \n",
    "hydrogen = Element('Hydrogen','H',1)\n",
    "hydrogen.dump()"
   ]
  },
  {
   "cell_type": "code",
   "execution_count": null,
   "id": "60f5fb3c",
   "metadata": {},
   "outputs": [],
   "source": [
    "7. Call print(hydrogen). In the definition of Element, change the name of \n",
    "method dump to __str__, create a new hydrogen object, and call \n",
    "print(hydrogen) again.\n",
    "\n",
    "print(hydrogen)\n",
    "\n",
    "class Element:\n",
    "    def __init__(self, name, symbol, number):\n",
    "        self.name = name\n",
    "        self.symbol = symbol\n",
    "        self.number = number      \n",
    "    def __str__(self):\n",
    "        return f'{self.name} {self.symbol} {self.number}'\n",
    "        \n",
    "Hydrogen = Element('Hydrogen','H',1)\n",
    "print(Hydrogen)"
   ]
  },
  {
   "cell_type": "code",
   "execution_count": null,
   "id": "8def1cd1",
   "metadata": {},
   "outputs": [],
   "source": [
    "8. Modify Element to make the attributes name, symbol, and number private. \n",
    "Define a getter property for each to return its value.\n",
    "\n",
    "class Element:\n",
    "    def __init__(self,name,symbol,number):\n",
    "        self.__name = name\n",
    "        self.__symbol = symbol\n",
    "        self.__number = number\n",
    "    \n",
    "    @property\n",
    "    def get_name(self):\n",
    "        return self.__name\n",
    "    \n",
    "    @property\n",
    "    def get_symbol(self):\n",
    "        return self.__symbol\n",
    "    \n",
    "    @property\n",
    "    def get_number(self):\n",
    "        return self.__number\n",
    "    \n",
    "hydrogen = Element('Hydrogen','H',1)\n",
    "print(hydrogen.get_name)\n",
    "print(hydrogen.get_symbol)\n",
    "print(hydrogen.get_number)"
   ]
  },
  {
   "cell_type": "code",
   "execution_count": null,
   "id": "61da361f",
   "metadata": {},
   "outputs": [],
   "source": [
    "9. Define three classes: Bear, Rabbit, and Octothorpe. For each, define only \n",
    "one method: eats(). This should return 'berries' (Bear), 'clover' \n",
    "(Rabbit), or 'campers' (Octothorpe). Create one object from each and print \n",
    "what it eats.\n",
    "\n",
    "class Bear:\n",
    "    def eats(self):\n",
    "        print('berries')\n",
    "class Rabbit:\n",
    "    def eats(self):\n",
    "        print('clover')\n",
    "class Octothorpe:\n",
    "    def eats(self):\n",
    "        print('campers')\n",
    "        \n",
    "bear = Bear()\n",
    "rabbit = Rabbit()\n",
    "octothrope = Octothorpe()\n",
    "\n",
    "bear.eats()\n",
    "rabbit.eats()\n",
    "octothrope.eats()"
   ]
  },
  {
   "cell_type": "code",
   "execution_count": null,
   "id": "31630c7c",
   "metadata": {},
   "outputs": [],
   "source": [
    "10. Define these classes: Laser, Claw, and SmartPhone. Each has only one \n",
    "method: does(). This returns 'disintegrate' (Laser), 'crush' (Claw), or \n",
    "'ring' (SmartPhone). Then, define the class Robot that has one instance \n",
    "(object) of each of these. Define a does() method for the Robot that prints \n",
    "what its component objects do.\n",
    "\n",
    "class Laser:\n",
    "    def does(self):\n",
    "        return 'disintegrate'\n",
    "class Claw:\n",
    "    def does(self):\n",
    "        return 'crush'\n",
    "class Smartphone:\n",
    "    def does(self):\n",
    "        return 'ring'\n",
    "class Robot:\n",
    "    def __init__(self):\n",
    "        self.laser = Laser()\n",
    "        self.claw = Claw()\n",
    "        self.smartphone = Smartphone()\n",
    "    def does(self):\n",
    "        print(self.laser.does(),self.claw.does(),self.smartphone.does())\n",
    "        \n",
    "r2d2 = Robot()\n",
    "r2d2.does()"
   ]
  }
 ],
 "metadata": {
  "kernelspec": {
   "display_name": "Python 3 (ipykernel)",
   "language": "python",
   "name": "python3"
  },
  "language_info": {
   "codemirror_mode": {
    "name": "ipython",
    "version": 3
   },
   "file_extension": ".py",
   "mimetype": "text/x-python",
   "name": "python",
   "nbconvert_exporter": "python",
   "pygments_lexer": "ipython3",
   "version": "3.11.3"
  }
 },
 "nbformat": 4,
 "nbformat_minor": 5
}
